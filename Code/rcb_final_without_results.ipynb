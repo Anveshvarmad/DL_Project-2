{
 "cells": [
  {
   "cell_type": "code",
   "execution_count": null,
   "metadata": {
    "colab": {
     "base_uri": "https://localhost:8080/"
    },
    "id": "tcrAm7OqT9w-",
    "outputId": "4c9e9def-435a-4020-a465-d54388e3dd85"
   },
   "outputs": [],
   "source": [
    "!pip install transformers datasets evaluate accelerate peft trl bitsandbytes nlpaug\n",
    "!pip install nvidia-ml-py3"
   ]
  },
  {
   "cell_type": "code",
   "execution_count": null,
   "metadata": {
    "id": "yh4Qwe_TUDsL"
   },
   "outputs": [],
   "source": [
    "import os\n",
    "import torch\n",
    "import numpy as np\n",
    "import pandas as pd\n",
    "import matplotlib.pyplot as plt\n",
    "import seaborn as sns\n",
    "from torch import nn\n",
    "from torch.utils.data import DataLoader\n",
    "from datasets import load_dataset\n",
    "from transformers import (\n",
    "    RobertaModel, RobertaTokenizer, RobertaPreTrainedModel,\n",
    "    RobertaForSequenceClassification, AutoConfig, TrainingArguments,\n",
    "    Trainer, DataCollatorWithPadding, EarlyStoppingCallback\n",
    ")\n",
    "from peft import LoraConfig, get_peft_model\n",
    "from sklearn.metrics import accuracy_score, confusion_matrix, ConfusionMatrixDisplay\n",
    "import evaluate\n",
    "from tqdm import tqdm"
   ]
  },
  {
   "cell_type": "code",
   "execution_count": null,
   "metadata": {
    "id": "N9XPHvgJU3x5"
   },
   "outputs": [],
   "source": [
    "# === Configuration variables ===\n",
    "\n",
    "# Specify the base model to use for fine-tuning\n",
    "model_name = \"roberta-base\"\n",
    "\n",
    "# Directory where the fine-tuned model will be saved\n",
    "model_save_dir = \"fine_tuned_model\"\n",
    "\n",
    "# Set to True if you want to use a custom classification head on top of the base model\n",
    "use_custom_head = False\n",
    "\n",
    "# Enable early stopping to prevent overfitting during training\n",
    "use_early_stopping = True\n",
    "\n",
    "# Apply weight decay regularization to the optimizer\n",
    "use_weight_decay = False\n",
    "\n",
    "# Freeze the base model layers to train only the classification head\n",
    "freeze_base_model = True\n",
    "\n",
    "# Number of evaluation steps with no improvement after which training stops (only if early stopping is enabled)\n",
    "early_stopping_patience = 3\n",
    "\n",
    "# Value for weight decay if use_weight_decay is True\n",
    "weight_decay_val = 0.01\n",
    "\n",
    "# Number of forward passes for MC Dropout (used only if use_mc_dropout is True)\n",
    "mc_dropout_passes = 10\n",
    "\n",
    "# Number of final layers in the base model to unfreeze (if freeze_base_model is False or partially unfreezing)\n",
    "unfreeze_last_layers = 2\n",
    "\n",
    "# Maximum number of tokens allowed in each input sequence\n",
    "max_seq_length = 128\n",
    "\n",
    "# Batch size used during training\n",
    "train_batch_size = 32\n",
    "\n",
    "# Batch size used during evaluation\n",
    "eval_batch_size = 64\n",
    "\n",
    "# Total number of training epochs\n",
    "num_epochs = 2\n",
    "\n",
    "# Learning rate for the optimizer\n",
    "learning_rate = 5e-6\n"
   ]
  },
  {
   "cell_type": "code",
   "execution_count": null,
   "metadata": {
    "id": "gRfugWr5VyNN"
   },
   "outputs": [],
   "source": [
    "# === Load the AG News dataset ===\n",
    "# This will download and prepare the dataset for use (train and test splits)\n",
    "dataset = load_dataset(\"ag_news\")\n",
    "\n",
    "# === Load the tokenizer for the specified model ===\n",
    "# This tokenizer will be used to convert raw text into token IDs compatible with RoBERTa\n",
    "tokenizer = RobertaTokenizer.from_pretrained(model_name)\n",
    "\n",
    "# === Set the maximum sequence length for tokenization ===\n",
    "# Ensures all tokenized sequences are truncated or padded to this fixed length\n",
    "tokenizer.model_max_length = max_seq_length\n"
   ]
  },
  {
   "cell_type": "code",
   "execution_count": null,
   "metadata": {
    "colab": {
     "base_uri": "https://localhost:8080/",
     "height": 81,
     "referenced_widgets": [
      "5c6f70b8b36542ef836cb34a291390ef",
      "13ef684879db4a4d9ca18c6acdb25364",
      "00bd834b4d1a46caa0317884a3fd0f77",
      "4aa6ed871c0d4ea5acce9d552515d59a",
      "8520caf3469d4a1aa3e3b11d77e18ea4",
      "fb7f8c2fe0e644b5992d757255f740cd",
      "5ce0b45f285646a4be2fca799c8f26ea",
      "90258dbba3d247548a007b9935b7953c",
      "7ab37f028e4b4ed7b4ca74bcd4d40529",
      "4ddf1f67556442c3a23a80536cf9138d",
      "ab9217157f574ef7abd56bd9217550f8",
      "28ab5239c3704857b41c7856247d7853",
      "428b858919844bd98cb21868beb67bc3",
      "9d43c4d980c34a859c7527d4e9bc07e6",
      "34d4382507944fd78973e1429f38c3cd",
      "ba91a3b948ee4d329cf93ec8c8dfccb1",
      "e8e9abf24b00487f8c70d6a246105346",
      "11f99d5e0aa64946bd4c9f83fc7f5ea1",
      "423338a4de4641cb9d496c142513b094",
      "d8ab84ca58474ef99826675364fd3e69",
      "3052574f4d59415ba3420a108c91016d",
      "b583dd7a44f046518b59ed9ca207fd8f"
     ]
    },
    "id": "-17uqS-tkdZy",
    "outputId": "6e21c177-4111-4613-acf6-edcb3e5ad213"
   },
   "outputs": [],
   "source": [
    "base_model = 'roberta-base'\n",
    "tokenizer = RobertaTokenizer.from_pretrained(base_model)\n",
    "\n",
    "# Load dataset\n",
    "dataset = load_dataset('ag_news')  # This loads both 'train' and 'test' splits\n",
    "\n",
    "# Optional: max length (if you want fixed-length padding, set this to a value like 128)\n",
    "max_seq_length = None  # Set to an int like 128 for fixed padding, or None for dynamic\n",
    "\n",
    "# Tokenization function\n",
    "def preprocess(examples):\n",
    "    return tokenizer(\n",
    "        examples[\"text\"],\n",
    "        truncation=True,\n",
    "        padding=\"max_length\" if max_seq_length else True,\n",
    "        max_length=max_seq_length\n",
    "    )\n",
    "\n",
    "# Tokenize datasets\n",
    "train_data = dataset[\"train\"].map(preprocess, batched=True, remove_columns=[\"text\"])\n",
    "test_data = dataset[\"test\"].map(preprocess, batched=True, remove_columns=[\"text\"])\n",
    "\n",
    "# Rename 'label' to 'labels' as required by HuggingFace models\n",
    "train_data = train_data.rename_column(\"label\", \"labels\")\n",
    "test_data = test_data.rename_column(\"label\", \"labels\")\n",
    "\n",
    "# Get label info\n",
    "num_labels = dataset[\"train\"].features[\"label\"].num_classes\n",
    "label_names = dataset[\"train\"].features[\"label\"].names\n",
    "id2label = {i: l for i, l in enumerate(label_names)}\n",
    "label2id = {l: i for i, l in enumerate(label_names)}\n",
    "\n",
    "# Data collator for dynamic padding (best for GPU memory and speed)\n",
    "data_collator = DataCollatorWithPadding(tokenizer=tokenizer, return_tensors=\"pt\")"
   ]
  },
  {
   "cell_type": "code",
   "execution_count": null,
   "metadata": {
    "id": "1iw6X7QnoOG4"
   },
   "outputs": [],
   "source": [
    "\n",
    "training_args = TrainingArguments(\n",
    "    output_dir=f\"./outputs/{model_save_dir}\",         # Directory to save model checkpoints and logs\n",
    "    report_to=\"none\",                                 # Disable logging to external tools like WandB or TensorBoard\n",
    "    eval_strategy=\"steps\",                            # Evaluate the model every few steps\n",
    "    save_strategy=\"steps\",                            # Save checkpoints every few steps\n",
    "    eval_steps=500,                                   # Perform evaluation every 500 steps\n",
    "    save_steps=4000,                                  # Save a model checkpoint every 4000 steps\n",
    "    logging_steps=500,                                # Log training metrics every 500 steps\n",
    "    learning_rate=learning_rate,                      # Initial learning rate for the optimizer\n",
    "    per_device_train_batch_size=train_batch_size,     # Batch size per device (GPU/CPU) during training\n",
    "    per_device_eval_batch_size=eval_batch_size,       # Batch size per device during evaluation\n",
    "    num_train_epochs=num_epochs,                      # Total number of training epochs\n",
    "    weight_decay=weight_decay_val if use_weight_decay else 0.0,  # Apply weight decay if enabled\n",
    "    save_total_limit=3,                               # Keep only the latest 3 model checkpoints\n",
    "    load_best_model_at_end=True,                      # Load the best checkpoint at the end of training\n",
    "    metric_for_best_model=\"accuracy\",                 # Use accuracy to select the best model\n",
    "    greater_is_better=True,                           # Higher accuracy is better\n",
    "    lr_scheduler_type=\"linear\",                       # Linear learning rate scheduler with warmup\n",
    "    warmup_ratio=0.1                                  # Warmup for 10% of total training steps\n",
    ")\n",
    "\n"
   ]
  },
  {
   "cell_type": "code",
   "execution_count": null,
   "metadata": {
    "id": "NqYoaBQAkiLi"
   },
   "outputs": [],
   "source": [
    "class CustomRobertaClassifier(RobertaPreTrainedModel):\n",
    "    def __init__(self, config):\n",
    "        super().__init__(config)\n",
    "\n",
    "        # Load pre-trained RoBERTa model as the encoder\n",
    "        self.roberta = RobertaModel(config)\n",
    "\n",
    "        # Define a custom multi-layer classifier head\n",
    "        self.classifier = nn.Sequential(\n",
    "            nn.Linear(config.hidden_size, 512),  # First linear layer from hidden size to 512\n",
    "            nn.LayerNorm(512),                   # Layer normalization\n",
    "            nn.GELU(),                           # GELU activation function\n",
    "            nn.Dropout(0.3),                     # Dropout for regularization\n",
    "\n",
    "            nn.Linear(512, 256),                 # Second linear layer from 512 to 256\n",
    "            nn.LayerNorm(256),                   # Layer normalization\n",
    "            nn.GELU(),                           # GELU activation function\n",
    "            nn.Dropout(0.3),                     # Dropout for regularization\n",
    "\n",
    "            nn.Linear(256, config.num_labels)    # Final linear layer mapping to number of labels\n",
    "        )\n",
    "\n",
    "        self.init_weights()  # Initialize weights for the custom layers\n",
    "\n",
    "    def forward(self, input_ids=None, attention_mask=None, labels=None, **kwargs):\n",
    "        # Get hidden states from RoBERTa\n",
    "        outputs = self.roberta(input_ids=input_ids, attention_mask=attention_mask)\n",
    "\n",
    "        # Use the [CLS] token's representation (first token) for classification\n",
    "        cls_token = outputs.last_hidden_state[:, 0]\n",
    "\n",
    "        # Pass the [CLS] token through the custom classifier\n",
    "        logits = self.classifier(cls_token)\n",
    "\n",
    "        loss = None\n",
    "        if labels is not None:\n",
    "            # Compute cross-entropy loss with label smoothing\n",
    "            loss_fct = nn.CrossEntropyLoss(label_smoothing=0.1)\n",
    "            loss = loss_fct(logits, labels)\n",
    "\n",
    "        # Return loss and logits during training, or just logits during inference\n",
    "        return {\"loss\": loss, \"logits\": logits} if loss is not None else {\"logits\": logits}\n"
   ]
  },
  {
   "cell_type": "code",
   "execution_count": null,
   "metadata": {
    "colab": {
     "base_uri": "https://localhost:8080/"
    },
    "id": "WRDfWCo3m7di",
    "outputId": "14098d54-85ad-42f9-af92-d5a49aad87d3"
   },
   "outputs": [],
   "source": [
    "base_model = RobertaForSequenceClassification.from_pretrained(\n",
    "    model_name,              # Name of the pre-trained RoBERTa model to load\n",
    "    num_labels=num_labels,   # Total number of target labels for classification\n",
    "    id2label=id2label,       # Mapping from label IDs to label names (for readability in outputs)\n",
    "    label2id=label2id        # Mapping from label names to label IDs (used internally during training)\n",
    ")\n"
   ]
  },
  {
   "cell_type": "code",
   "execution_count": null,
   "metadata": {
    "id": "pAClgGdJmlj2"
   },
   "outputs": [],
   "source": [
    "lora_config = LoraConfig(\n",
    "    r=3,                                      # Rank of the LoRA update matrices (controls parameter efficiency)\n",
    "    lora_alpha=5,                             # Scaling factor for LoRA updates\n",
    "    lora_dropout=0.05,                        # Dropout probability applied to LoRA layers during training\n",
    "    bias='none',                              # No bias adjustment in LoRA layers\n",
    "    target_modules=[\"query\", \"value\"],        # Apply LoRA to attention query and value projection layers\n",
    "    task_type=\"SEQ_CLS\"                       # Task type is sequence classification\n",
    ")\n",
    "\n",
    "# Wrap the base model with the LoRA configuration for parameter-efficient fine-tuning\n",
    "model = get_peft_model(base_model, lora_config)\n"
   ]
  },
  {
   "cell_type": "code",
   "execution_count": null,
   "metadata": {
    "colab": {
     "base_uri": "https://localhost:8080/"
    },
    "id": "HLG0HYYvD_VH",
    "outputId": "093085a8-1df5-4ce6-dd62-007f19cface6"
   },
   "outputs": [],
   "source": [
    "model"
   ]
  },
  {
   "cell_type": "code",
   "execution_count": null,
   "metadata": {
    "colab": {
     "base_uri": "https://localhost:8080/"
    },
    "id": "OKOpbersEJZ8",
    "outputId": "77f6f1be-2fab-4249-991b-0c2204a83773"
   },
   "outputs": [],
   "source": [
    "print('PEFT Model')\n",
    "model.print_trainable_parameters()"
   ]
  },
  {
   "cell_type": "code",
   "execution_count": null,
   "metadata": {
    "id": "FqTLi0fWooWV"
   },
   "outputs": [],
   "source": [
    "# Function to compute evaluation metrics after each evaluation phase\n",
    "def compute_metrics(eval_pred):\n",
    "    predictions = eval_pred.predictions.argmax(-1)  # Get the predicted class index with highest logit\n",
    "    return {\"accuracy\": accuracy_score(eval_pred.label_ids, predictions)}  # Return accuracy score\n",
    "\n",
    "# Configure early stopping callback if enabled\n",
    "callbacks = [EarlyStoppingCallback(early_stopping_patience=early_stopping_patience)] if use_early_stopping else []\n",
    "# This stops training if no improvement in validation metric for 'early_stopping_patience' evaluations\n"
   ]
  },
  {
   "cell_type": "code",
   "execution_count": null,
   "metadata": {
    "colab": {
     "base_uri": "https://localhost:8080/"
    },
    "id": "TZz-Qmxzo4ju",
    "outputId": "f2c69b3f-2ac5-43c5-b8ae-bee276e1ab6a"
   },
   "outputs": [],
   "source": [
    "trainer = Trainer(\n",
    "    model=model,                           # The model to be trained (with or without LoRA)\n",
    "    args=training_args,                    # Training arguments including batch size, epochs, LR, etc.\n",
    "    train_dataset=train_data,              # Dataset used for training\n",
    "    eval_dataset=test_data,                # Dataset used for evaluation during training\n",
    "    tokenizer=tokenizer,                   # Tokenizer used for preprocessing text inputs\n",
    "    data_collator=data_collator,           # Handles dynamic padding and batching of inputs\n",
    "    compute_metrics=compute_metrics,       # Function to compute evaluation metrics like accuracy\n",
    "    callbacks=callbacks                    # Optional callbacks (e.g., early stopping)\n",
    ")\n"
   ]
  },
  {
   "cell_type": "code",
   "execution_count": null,
   "metadata": {
    "colab": {
     "base_uri": "https://localhost:8080/",
     "height": 581
    },
    "id": "aaOX6Ja2o5OL",
    "outputId": "8d911c6c-56e3-4b51-dfcf-f1ca78848050"
   },
   "outputs": [],
   "source": [
    "# train the custom model\n",
    "trainer.train()"
   ]
  },
  {
   "cell_type": "code",
   "execution_count": null,
   "metadata": {
    "colab": {
     "base_uri": "https://localhost:8080/"
    },
    "id": "SZ5TICVao86x",
    "outputId": "4ccd6a76-7c98-4a01-8d45-34598e89e7ae"
   },
   "outputs": [],
   "source": [
    "def evaluate_model(model, dataset, with_labels=True, batch_size=8, collator=None):\n",
    "    device = torch.device(\"cuda\" if torch.cuda.is_available() else \"cpu\")\n",
    "    model.to(device)\n",
    "    model.eval()\n",
    "    loader = DataLoader(dataset, batch_size=batch_size, collate_fn=collator)\n",
    "    preds = []\n",
    "    true = []\n",
    "    if with_labels:\n",
    "        metric = evaluate.load(\"accuracy\")\n",
    "    for batch in tqdm(loader):\n",
    "        batch = {k: v.to(device) for k, v in batch.items()}\n",
    "        with torch.no_grad():\n",
    "            out = model(**batch)\n",
    "        pred = out.logits.argmax(dim=-1)\n",
    "        preds.append(pred.cpu())\n",
    "        if with_labels:\n",
    "            metric.add_batch(predictions=pred.cpu().numpy(), references=batch[\"labels\"].cpu().numpy())\n",
    "            true.append(batch[\"labels\"].cpu())\n",
    "    all_preds = torch.cat(preds)\n",
    "    all_true = torch.cat(true)\n",
    "    if with_labels:\n",
    "        result = metric.compute()\n",
    "        print(\"Accuracy:\", result)\n",
    "        return result, all_preds, all_true\n",
    "    return all_preds, None\n",
    "\n",
    "# === Evaluate Model ===\n",
    "_, all_preds, all_true = evaluate_model(model, test_data, True, eval_batch_size, data_collator)\n",
    "\n",
    "# === Training Metrics: Accuracy vs Steps & Steps vs Loss ===\n",
    "training_history = trainer.state.log_history\n",
    "\n",
    "steps = []\n",
    "losses = []\n",
    "accuracies = []\n",
    "\n",
    "for record in training_history:\n",
    "    if \"loss\" in record and \"step\" in record:\n",
    "        steps.append(record[\"step\"])\n",
    "        losses.append(record[\"loss\"])\n",
    "    if \"eval_accuracy\" in record and \"step\" in record:\n",
    "        accuracies.append((record[\"step\"], record[\"eval_accuracy\"]))\n",
    "\n"
   ]
  },
  {
   "cell_type": "markdown",
   "metadata": {
    "id": "tQKgySVnR7ci"
   },
   "source": [
    "# Plot Accuracy vs Steps"
   ]
  },
  {
   "cell_type": "code",
   "execution_count": null,
   "metadata": {
    "colab": {
     "base_uri": "https://localhost:8080/",
     "height": 507
    },
    "id": "fAAAhPe4RCWa",
    "outputId": "f8222a78-b4c0-42de-8dba-fad9cb30f0ec"
   },
   "outputs": [],
   "source": [
    "acc_steps, acc_values = zip(*accuracies)\n",
    "plt.figure(figsize=(10, 5))\n",
    "plt.plot(acc_steps, acc_values, marker='o')\n",
    "plt.title(\"Accuracy vs Steps\")\n",
    "plt.xlabel(\"Steps\")\n",
    "plt.ylabel(\"Accuracy\")\n",
    "plt.grid(True)\n",
    "plt.tight_layout()\n",
    "plt.show()"
   ]
  },
  {
   "cell_type": "markdown",
   "metadata": {
    "id": "tCl4S1HwSH9E"
   },
   "source": [
    "# plot of Steps vs Loss"
   ]
  },
  {
   "cell_type": "code",
   "execution_count": null,
   "metadata": {
    "colab": {
     "base_uri": "https://localhost:8080/",
     "height": 507
    },
    "id": "tlsSXJbFRCho",
    "outputId": "bd3e8cc8-2090-454e-a52c-94ea19286cc5"
   },
   "outputs": [],
   "source": [
    "plt.figure(figsize=(10, 5))\n",
    "plt.plot(steps, losses, color='orange', marker='o')\n",
    "plt.title(\"Steps vs Loss\")\n",
    "plt.xlabel(\"Steps\")\n",
    "plt.ylabel(\"Loss\")\n",
    "plt.grid(True)\n",
    "plt.tight_layout()\n",
    "plt.show()\n"
   ]
  },
  {
   "cell_type": "markdown",
   "metadata": {
    "id": "MghBYS9DSSX_"
   },
   "source": [
    "# Confusion Matrix"
   ]
  },
  {
   "cell_type": "code",
   "execution_count": null,
   "metadata": {
    "colab": {
     "base_uri": "https://localhost:8080/",
     "height": 653
    },
    "id": "p9hh06WuRCpr",
    "outputId": "0e9c85ee-de61-4e83-ed9a-2d20e72093f2"
   },
   "outputs": [],
   "source": [
    "\n",
    "# === Confusion Matrix ===\n",
    "cm = confusion_matrix(all_true, all_preds)\n",
    "disp = ConfusionMatrixDisplay(confusion_matrix=cm, display_labels=label_names)\n",
    "fig, ax = plt.subplots(figsize=(8, 8))\n",
    "disp.plot(ax=ax, cmap='Blues', values_format='d')\n",
    "plt.title(\"Confusion Matrix\")\n",
    "plt.show()\n"
   ]
  },
  {
   "cell_type": "markdown",
   "metadata": {
    "id": "MUoDnSqySdM9"
   },
   "source": [
    "# Plot of Predicted Class Distribution"
   ]
  },
  {
   "cell_type": "code",
   "execution_count": null,
   "metadata": {
    "colab": {
     "base_uri": "https://localhost:8080/",
     "height": 616
    },
    "id": "5k2cSoYlRLNG",
    "outputId": "dbb0b715-ed0f-44e3-f23d-5cfbd89bde29"
   },
   "outputs": [],
   "source": [
    "# === Predicted Class Distribution ===\n",
    "plt.figure(figsize=(8, 5))\n",
    "sns.countplot(x=all_preds.numpy(), palette='viridis')\n",
    "plt.title(\"Predicted Class Distribution\")\n",
    "plt.xlabel(\"Class\")\n",
    "plt.ylabel(\"Count\")\n",
    "plt.xticks(ticks=range(num_labels), labels=label_names)\n",
    "plt.grid(True)\n",
    "plt.tight_layout()\n",
    "plt.show()"
   ]
  },
  {
   "cell_type": "code",
   "execution_count": null,
   "metadata": {
    "colab": {
     "base_uri": "https://localhost:8080/",
     "height": 120,
     "referenced_widgets": [
      "700bbb78f6604be6b36945c7a00dea55",
      "f5c89a13dcbe441b887a2106ba8fb5d5",
      "436d62cc338343b0ab4e55f170ba7f26",
      "5bbe7ca286aa429eb58d879ac4d346ec",
      "b009c8ea86924612a47b7f58c95eb703",
      "afc5edf47abd4bce8c6cced7d5aadc9a",
      "f9a86152e6bf491cba018fb8529d5b0b",
      "be1be11948304d0e813728c27751d9c5",
      "1efcc3c6a50341518ef35814888e7df6",
      "8e0fc726746140b7b97ab5b05514d043",
      "c29a36e7cc78444ca41e72085cdcd04f"
     ]
    },
    "id": "Ashi6Blf1R_m",
    "outputId": "e4b30eb5-1490-46ee-b808-6c5ddc7c31c5"
   },
   "outputs": [],
   "source": [
    "unlabelled_dataset = pd.read_pickle(r\"/content/test_unlabelled.pkl\")\n",
    "test_dataset = unlabelled_dataset.map(preprocess, batched=True, remove_columns=[\"text\"])\n",
    "unlabelled_dataset"
   ]
  },
  {
   "cell_type": "code",
   "execution_count": null,
   "metadata": {
    "id": "MGQbz4BD400L"
   },
   "outputs": [],
   "source": [
    "def predict(model, dataset, with_labels=True, batch_size=8, collator=None):\n",
    "    model.eval()\n",
    "    dataloader = DataLoader(dataset, batch_size=batch_size, collate_fn=collator)\n",
    "    preds = []\n",
    "    true = []\n",
    "\n",
    "    with torch.no_grad():\n",
    "        for batch in dataloader:\n",
    "            # Move inputs to device\n",
    "            inputs = {k: v.to(model.device) for k, v in batch.items() if k != \"labels\"}\n",
    "            outputs = model(**inputs)\n",
    "            logits = outputs.logits\n",
    "            preds.append(torch.argmax(logits, dim=1).cpu())\n",
    "\n",
    "            # Collect true labels only if available\n",
    "            if with_labels and \"labels\" in batch:\n",
    "                true.append(batch[\"labels\"].cpu())\n",
    "\n",
    "    all_preds = torch.cat(preds)\n",
    "\n",
    "    if with_labels:\n",
    "        if len(true) > 0:\n",
    "            all_true = torch.cat(true)\n",
    "            return all_preds, all_true\n",
    "        else:\n",
    "            return all_preds, None\n",
    "    else:\n",
    "        return all_preds\n"
   ]
  },
  {
   "cell_type": "code",
   "execution_count": null,
   "metadata": {
    "colab": {
     "base_uri": "https://localhost:8080/"
    },
    "id": "qpaSX_n02Ara",
    "outputId": "13713a7a-3bc0-496d-a3fd-bea3b65a31ba"
   },
   "outputs": [],
   "source": [
    "# Run inference and save predictions\n",
    "preds = predict(model, test_dataset, False, 8, data_collator)\n",
    "df_output = pd.DataFrame({\n",
    "    'ID': range(len(preds)),\n",
    "    'Label': preds.numpy()  # or preds.tolist()\n",
    "})\n",
    "\n",
    "df_output.to_csv(os.path.join(r\"/content/outputs/fine_tuned_model\",\"4.csv\"), index=False)\n",
    "print(\"Inference complete. Predictions saved to inference_output.csv\")"
   ]
  },
  {
   "cell_type": "code",
   "execution_count": null,
   "metadata": {
    "colab": {
     "base_uri": "https://localhost:8080/"
    },
    "id": "a-MahPo05nIP",
    "outputId": "09ee4547-76ed-4454-ab72-060738a5165e"
   },
   "outputs": [],
   "source": [
    "#### save model #####\n",
    "model.save_pretrained(f\"./outputs/{model_save_dir}/final_model\")\n",
    "tokenizer.save_pretrained(f\"./outputs/{model_save_dir}/final_model\")"
   ]
  }
 ],
 "metadata": {
  "accelerator": "GPU",
  "colab": {
   "gpuType": "A100",
   "provenance": []
  },
  "kernelspec": {
   "display_name": "Python 3",
   "name": "python3"
  },
  "language_info": {
   "name": "python"
  },
  "widgets": {
   "application/vnd.jupyter.widget-state+json": {
    "00bd834b4d1a46caa0317884a3fd0f77": {
     "model_module": "@jupyter-widgets/controls",
     "model_module_version": "1.5.0",
     "model_name": "FloatProgressModel",
     "state": {
      "_dom_classes": [],
      "_model_module": "@jupyter-widgets/controls",
      "_model_module_version": "1.5.0",
      "_model_name": "FloatProgressModel",
      "_view_count": null,
      "_view_module": "@jupyter-widgets/controls",
      "_view_module_version": "1.5.0",
      "_view_name": "ProgressView",
      "bar_style": "success",
      "description": "",
      "description_tooltip": null,
      "layout": "IPY_MODEL_90258dbba3d247548a007b9935b7953c",
      "max": 120000,
      "min": 0,
      "orientation": "horizontal",
      "style": "IPY_MODEL_7ab37f028e4b4ed7b4ca74bcd4d40529",
      "value": 120000
     }
    },
    "11f99d5e0aa64946bd4c9f83fc7f5ea1": {
     "model_module": "@jupyter-widgets/controls",
     "model_module_version": "1.5.0",
     "model_name": "DescriptionStyleModel",
     "state": {
      "_model_module": "@jupyter-widgets/controls",
      "_model_module_version": "1.5.0",
      "_model_name": "DescriptionStyleModel",
      "_view_count": null,
      "_view_module": "@jupyter-widgets/base",
      "_view_module_version": "1.2.0",
      "_view_name": "StyleView",
      "description_width": ""
     }
    },
    "13ef684879db4a4d9ca18c6acdb25364": {
     "model_module": "@jupyter-widgets/controls",
     "model_module_version": "1.5.0",
     "model_name": "HTMLModel",
     "state": {
      "_dom_classes": [],
      "_model_module": "@jupyter-widgets/controls",
      "_model_module_version": "1.5.0",
      "_model_name": "HTMLModel",
      "_view_count": null,
      "_view_module": "@jupyter-widgets/controls",
      "_view_module_version": "1.5.0",
      "_view_name": "HTMLView",
      "description": "",
      "description_tooltip": null,
      "layout": "IPY_MODEL_fb7f8c2fe0e644b5992d757255f740cd",
      "placeholder": "​",
      "style": "IPY_MODEL_5ce0b45f285646a4be2fca799c8f26ea",
      "value": "Map: 100%"
     }
    },
    "1efcc3c6a50341518ef35814888e7df6": {
     "model_module": "@jupyter-widgets/controls",
     "model_module_version": "1.5.0",
     "model_name": "ProgressStyleModel",
     "state": {
      "_model_module": "@jupyter-widgets/controls",
      "_model_module_version": "1.5.0",
      "_model_name": "ProgressStyleModel",
      "_view_count": null,
      "_view_module": "@jupyter-widgets/base",
      "_view_module_version": "1.2.0",
      "_view_name": "StyleView",
      "bar_color": null,
      "description_width": ""
     }
    },
    "28ab5239c3704857b41c7856247d7853": {
     "model_module": "@jupyter-widgets/controls",
     "model_module_version": "1.5.0",
     "model_name": "HBoxModel",
     "state": {
      "_dom_classes": [],
      "_model_module": "@jupyter-widgets/controls",
      "_model_module_version": "1.5.0",
      "_model_name": "HBoxModel",
      "_view_count": null,
      "_view_module": "@jupyter-widgets/controls",
      "_view_module_version": "1.5.0",
      "_view_name": "HBoxView",
      "box_style": "",
      "children": [
       "IPY_MODEL_428b858919844bd98cb21868beb67bc3",
       "IPY_MODEL_9d43c4d980c34a859c7527d4e9bc07e6",
       "IPY_MODEL_34d4382507944fd78973e1429f38c3cd"
      ],
      "layout": "IPY_MODEL_ba91a3b948ee4d329cf93ec8c8dfccb1"
     }
    },
    "3052574f4d59415ba3420a108c91016d": {
     "model_module": "@jupyter-widgets/base",
     "model_module_version": "1.2.0",
     "model_name": "LayoutModel",
     "state": {
      "_model_module": "@jupyter-widgets/base",
      "_model_module_version": "1.2.0",
      "_model_name": "LayoutModel",
      "_view_count": null,
      "_view_module": "@jupyter-widgets/base",
      "_view_module_version": "1.2.0",
      "_view_name": "LayoutView",
      "align_content": null,
      "align_items": null,
      "align_self": null,
      "border": null,
      "bottom": null,
      "display": null,
      "flex": null,
      "flex_flow": null,
      "grid_area": null,
      "grid_auto_columns": null,
      "grid_auto_flow": null,
      "grid_auto_rows": null,
      "grid_column": null,
      "grid_gap": null,
      "grid_row": null,
      "grid_template_areas": null,
      "grid_template_columns": null,
      "grid_template_rows": null,
      "height": null,
      "justify_content": null,
      "justify_items": null,
      "left": null,
      "margin": null,
      "max_height": null,
      "max_width": null,
      "min_height": null,
      "min_width": null,
      "object_fit": null,
      "object_position": null,
      "order": null,
      "overflow": null,
      "overflow_x": null,
      "overflow_y": null,
      "padding": null,
      "right": null,
      "top": null,
      "visibility": null,
      "width": null
     }
    },
    "34d4382507944fd78973e1429f38c3cd": {
     "model_module": "@jupyter-widgets/controls",
     "model_module_version": "1.5.0",
     "model_name": "HTMLModel",
     "state": {
      "_dom_classes": [],
      "_model_module": "@jupyter-widgets/controls",
      "_model_module_version": "1.5.0",
      "_model_name": "HTMLModel",
      "_view_count": null,
      "_view_module": "@jupyter-widgets/controls",
      "_view_module_version": "1.5.0",
      "_view_name": "HTMLView",
      "description": "",
      "description_tooltip": null,
      "layout": "IPY_MODEL_3052574f4d59415ba3420a108c91016d",
      "placeholder": "​",
      "style": "IPY_MODEL_b583dd7a44f046518b59ed9ca207fd8f",
      "value": " 7600/7600 [00:04&lt;00:00, 1778.38 examples/s]"
     }
    },
    "423338a4de4641cb9d496c142513b094": {
     "model_module": "@jupyter-widgets/base",
     "model_module_version": "1.2.0",
     "model_name": "LayoutModel",
     "state": {
      "_model_module": "@jupyter-widgets/base",
      "_model_module_version": "1.2.0",
      "_model_name": "LayoutModel",
      "_view_count": null,
      "_view_module": "@jupyter-widgets/base",
      "_view_module_version": "1.2.0",
      "_view_name": "LayoutView",
      "align_content": null,
      "align_items": null,
      "align_self": null,
      "border": null,
      "bottom": null,
      "display": null,
      "flex": null,
      "flex_flow": null,
      "grid_area": null,
      "grid_auto_columns": null,
      "grid_auto_flow": null,
      "grid_auto_rows": null,
      "grid_column": null,
      "grid_gap": null,
      "grid_row": null,
      "grid_template_areas": null,
      "grid_template_columns": null,
      "grid_template_rows": null,
      "height": null,
      "justify_content": null,
      "justify_items": null,
      "left": null,
      "margin": null,
      "max_height": null,
      "max_width": null,
      "min_height": null,
      "min_width": null,
      "object_fit": null,
      "object_position": null,
      "order": null,
      "overflow": null,
      "overflow_x": null,
      "overflow_y": null,
      "padding": null,
      "right": null,
      "top": null,
      "visibility": null,
      "width": null
     }
    },
    "428b858919844bd98cb21868beb67bc3": {
     "model_module": "@jupyter-widgets/controls",
     "model_module_version": "1.5.0",
     "model_name": "HTMLModel",
     "state": {
      "_dom_classes": [],
      "_model_module": "@jupyter-widgets/controls",
      "_model_module_version": "1.5.0",
      "_model_name": "HTMLModel",
      "_view_count": null,
      "_view_module": "@jupyter-widgets/controls",
      "_view_module_version": "1.5.0",
      "_view_name": "HTMLView",
      "description": "",
      "description_tooltip": null,
      "layout": "IPY_MODEL_e8e9abf24b00487f8c70d6a246105346",
      "placeholder": "​",
      "style": "IPY_MODEL_11f99d5e0aa64946bd4c9f83fc7f5ea1",
      "value": "Map: 100%"
     }
    },
    "436d62cc338343b0ab4e55f170ba7f26": {
     "model_module": "@jupyter-widgets/controls",
     "model_module_version": "1.5.0",
     "model_name": "FloatProgressModel",
     "state": {
      "_dom_classes": [],
      "_model_module": "@jupyter-widgets/controls",
      "_model_module_version": "1.5.0",
      "_model_name": "FloatProgressModel",
      "_view_count": null,
      "_view_module": "@jupyter-widgets/controls",
      "_view_module_version": "1.5.0",
      "_view_name": "ProgressView",
      "bar_style": "success",
      "description": "",
      "description_tooltip": null,
      "layout": "IPY_MODEL_be1be11948304d0e813728c27751d9c5",
      "max": 8000,
      "min": 0,
      "orientation": "horizontal",
      "style": "IPY_MODEL_1efcc3c6a50341518ef35814888e7df6",
      "value": 8000
     }
    },
    "4aa6ed871c0d4ea5acce9d552515d59a": {
     "model_module": "@jupyter-widgets/controls",
     "model_module_version": "1.5.0",
     "model_name": "HTMLModel",
     "state": {
      "_dom_classes": [],
      "_model_module": "@jupyter-widgets/controls",
      "_model_module_version": "1.5.0",
      "_model_name": "HTMLModel",
      "_view_count": null,
      "_view_module": "@jupyter-widgets/controls",
      "_view_module_version": "1.5.0",
      "_view_name": "HTMLView",
      "description": "",
      "description_tooltip": null,
      "layout": "IPY_MODEL_4ddf1f67556442c3a23a80536cf9138d",
      "placeholder": "​",
      "style": "IPY_MODEL_ab9217157f574ef7abd56bd9217550f8",
      "value": " 120000/120000 [01:00&lt;00:00, 2054.09 examples/s]"
     }
    },
    "4ddf1f67556442c3a23a80536cf9138d": {
     "model_module": "@jupyter-widgets/base",
     "model_module_version": "1.2.0",
     "model_name": "LayoutModel",
     "state": {
      "_model_module": "@jupyter-widgets/base",
      "_model_module_version": "1.2.0",
      "_model_name": "LayoutModel",
      "_view_count": null,
      "_view_module": "@jupyter-widgets/base",
      "_view_module_version": "1.2.0",
      "_view_name": "LayoutView",
      "align_content": null,
      "align_items": null,
      "align_self": null,
      "border": null,
      "bottom": null,
      "display": null,
      "flex": null,
      "flex_flow": null,
      "grid_area": null,
      "grid_auto_columns": null,
      "grid_auto_flow": null,
      "grid_auto_rows": null,
      "grid_column": null,
      "grid_gap": null,
      "grid_row": null,
      "grid_template_areas": null,
      "grid_template_columns": null,
      "grid_template_rows": null,
      "height": null,
      "justify_content": null,
      "justify_items": null,
      "left": null,
      "margin": null,
      "max_height": null,
      "max_width": null,
      "min_height": null,
      "min_width": null,
      "object_fit": null,
      "object_position": null,
      "order": null,
      "overflow": null,
      "overflow_x": null,
      "overflow_y": null,
      "padding": null,
      "right": null,
      "top": null,
      "visibility": null,
      "width": null
     }
    },
    "5bbe7ca286aa429eb58d879ac4d346ec": {
     "model_module": "@jupyter-widgets/controls",
     "model_module_version": "1.5.0",
     "model_name": "HTMLModel",
     "state": {
      "_dom_classes": [],
      "_model_module": "@jupyter-widgets/controls",
      "_model_module_version": "1.5.0",
      "_model_name": "HTMLModel",
      "_view_count": null,
      "_view_module": "@jupyter-widgets/controls",
      "_view_module_version": "1.5.0",
      "_view_name": "HTMLView",
      "description": "",
      "description_tooltip": null,
      "layout": "IPY_MODEL_8e0fc726746140b7b97ab5b05514d043",
      "placeholder": "​",
      "style": "IPY_MODEL_c29a36e7cc78444ca41e72085cdcd04f",
      "value": " 8000/8000 [00:05&lt;00:00, 1568.15 examples/s]"
     }
    },
    "5c6f70b8b36542ef836cb34a291390ef": {
     "model_module": "@jupyter-widgets/controls",
     "model_module_version": "1.5.0",
     "model_name": "HBoxModel",
     "state": {
      "_dom_classes": [],
      "_model_module": "@jupyter-widgets/controls",
      "_model_module_version": "1.5.0",
      "_model_name": "HBoxModel",
      "_view_count": null,
      "_view_module": "@jupyter-widgets/controls",
      "_view_module_version": "1.5.0",
      "_view_name": "HBoxView",
      "box_style": "",
      "children": [
       "IPY_MODEL_13ef684879db4a4d9ca18c6acdb25364",
       "IPY_MODEL_00bd834b4d1a46caa0317884a3fd0f77",
       "IPY_MODEL_4aa6ed871c0d4ea5acce9d552515d59a"
      ],
      "layout": "IPY_MODEL_8520caf3469d4a1aa3e3b11d77e18ea4"
     }
    },
    "5ce0b45f285646a4be2fca799c8f26ea": {
     "model_module": "@jupyter-widgets/controls",
     "model_module_version": "1.5.0",
     "model_name": "DescriptionStyleModel",
     "state": {
      "_model_module": "@jupyter-widgets/controls",
      "_model_module_version": "1.5.0",
      "_model_name": "DescriptionStyleModel",
      "_view_count": null,
      "_view_module": "@jupyter-widgets/base",
      "_view_module_version": "1.2.0",
      "_view_name": "StyleView",
      "description_width": ""
     }
    },
    "700bbb78f6604be6b36945c7a00dea55": {
     "model_module": "@jupyter-widgets/controls",
     "model_module_version": "1.5.0",
     "model_name": "HBoxModel",
     "state": {
      "_dom_classes": [],
      "_model_module": "@jupyter-widgets/controls",
      "_model_module_version": "1.5.0",
      "_model_name": "HBoxModel",
      "_view_count": null,
      "_view_module": "@jupyter-widgets/controls",
      "_view_module_version": "1.5.0",
      "_view_name": "HBoxView",
      "box_style": "",
      "children": [
       "IPY_MODEL_f5c89a13dcbe441b887a2106ba8fb5d5",
       "IPY_MODEL_436d62cc338343b0ab4e55f170ba7f26",
       "IPY_MODEL_5bbe7ca286aa429eb58d879ac4d346ec"
      ],
      "layout": "IPY_MODEL_b009c8ea86924612a47b7f58c95eb703"
     }
    },
    "7ab37f028e4b4ed7b4ca74bcd4d40529": {
     "model_module": "@jupyter-widgets/controls",
     "model_module_version": "1.5.0",
     "model_name": "ProgressStyleModel",
     "state": {
      "_model_module": "@jupyter-widgets/controls",
      "_model_module_version": "1.5.0",
      "_model_name": "ProgressStyleModel",
      "_view_count": null,
      "_view_module": "@jupyter-widgets/base",
      "_view_module_version": "1.2.0",
      "_view_name": "StyleView",
      "bar_color": null,
      "description_width": ""
     }
    },
    "8520caf3469d4a1aa3e3b11d77e18ea4": {
     "model_module": "@jupyter-widgets/base",
     "model_module_version": "1.2.0",
     "model_name": "LayoutModel",
     "state": {
      "_model_module": "@jupyter-widgets/base",
      "_model_module_version": "1.2.0",
      "_model_name": "LayoutModel",
      "_view_count": null,
      "_view_module": "@jupyter-widgets/base",
      "_view_module_version": "1.2.0",
      "_view_name": "LayoutView",
      "align_content": null,
      "align_items": null,
      "align_self": null,
      "border": null,
      "bottom": null,
      "display": null,
      "flex": null,
      "flex_flow": null,
      "grid_area": null,
      "grid_auto_columns": null,
      "grid_auto_flow": null,
      "grid_auto_rows": null,
      "grid_column": null,
      "grid_gap": null,
      "grid_row": null,
      "grid_template_areas": null,
      "grid_template_columns": null,
      "grid_template_rows": null,
      "height": null,
      "justify_content": null,
      "justify_items": null,
      "left": null,
      "margin": null,
      "max_height": null,
      "max_width": null,
      "min_height": null,
      "min_width": null,
      "object_fit": null,
      "object_position": null,
      "order": null,
      "overflow": null,
      "overflow_x": null,
      "overflow_y": null,
      "padding": null,
      "right": null,
      "top": null,
      "visibility": null,
      "width": null
     }
    },
    "8e0fc726746140b7b97ab5b05514d043": {
     "model_module": "@jupyter-widgets/base",
     "model_module_version": "1.2.0",
     "model_name": "LayoutModel",
     "state": {
      "_model_module": "@jupyter-widgets/base",
      "_model_module_version": "1.2.0",
      "_model_name": "LayoutModel",
      "_view_count": null,
      "_view_module": "@jupyter-widgets/base",
      "_view_module_version": "1.2.0",
      "_view_name": "LayoutView",
      "align_content": null,
      "align_items": null,
      "align_self": null,
      "border": null,
      "bottom": null,
      "display": null,
      "flex": null,
      "flex_flow": null,
      "grid_area": null,
      "grid_auto_columns": null,
      "grid_auto_flow": null,
      "grid_auto_rows": null,
      "grid_column": null,
      "grid_gap": null,
      "grid_row": null,
      "grid_template_areas": null,
      "grid_template_columns": null,
      "grid_template_rows": null,
      "height": null,
      "justify_content": null,
      "justify_items": null,
      "left": null,
      "margin": null,
      "max_height": null,
      "max_width": null,
      "min_height": null,
      "min_width": null,
      "object_fit": null,
      "object_position": null,
      "order": null,
      "overflow": null,
      "overflow_x": null,
      "overflow_y": null,
      "padding": null,
      "right": null,
      "top": null,
      "visibility": null,
      "width": null
     }
    },
    "90258dbba3d247548a007b9935b7953c": {
     "model_module": "@jupyter-widgets/base",
     "model_module_version": "1.2.0",
     "model_name": "LayoutModel",
     "state": {
      "_model_module": "@jupyter-widgets/base",
      "_model_module_version": "1.2.0",
      "_model_name": "LayoutModel",
      "_view_count": null,
      "_view_module": "@jupyter-widgets/base",
      "_view_module_version": "1.2.0",
      "_view_name": "LayoutView",
      "align_content": null,
      "align_items": null,
      "align_self": null,
      "border": null,
      "bottom": null,
      "display": null,
      "flex": null,
      "flex_flow": null,
      "grid_area": null,
      "grid_auto_columns": null,
      "grid_auto_flow": null,
      "grid_auto_rows": null,
      "grid_column": null,
      "grid_gap": null,
      "grid_row": null,
      "grid_template_areas": null,
      "grid_template_columns": null,
      "grid_template_rows": null,
      "height": null,
      "justify_content": null,
      "justify_items": null,
      "left": null,
      "margin": null,
      "max_height": null,
      "max_width": null,
      "min_height": null,
      "min_width": null,
      "object_fit": null,
      "object_position": null,
      "order": null,
      "overflow": null,
      "overflow_x": null,
      "overflow_y": null,
      "padding": null,
      "right": null,
      "top": null,
      "visibility": null,
      "width": null
     }
    },
    "9d43c4d980c34a859c7527d4e9bc07e6": {
     "model_module": "@jupyter-widgets/controls",
     "model_module_version": "1.5.0",
     "model_name": "FloatProgressModel",
     "state": {
      "_dom_classes": [],
      "_model_module": "@jupyter-widgets/controls",
      "_model_module_version": "1.5.0",
      "_model_name": "FloatProgressModel",
      "_view_count": null,
      "_view_module": "@jupyter-widgets/controls",
      "_view_module_version": "1.5.0",
      "_view_name": "ProgressView",
      "bar_style": "success",
      "description": "",
      "description_tooltip": null,
      "layout": "IPY_MODEL_423338a4de4641cb9d496c142513b094",
      "max": 7600,
      "min": 0,
      "orientation": "horizontal",
      "style": "IPY_MODEL_d8ab84ca58474ef99826675364fd3e69",
      "value": 7600
     }
    },
    "ab9217157f574ef7abd56bd9217550f8": {
     "model_module": "@jupyter-widgets/controls",
     "model_module_version": "1.5.0",
     "model_name": "DescriptionStyleModel",
     "state": {
      "_model_module": "@jupyter-widgets/controls",
      "_model_module_version": "1.5.0",
      "_model_name": "DescriptionStyleModel",
      "_view_count": null,
      "_view_module": "@jupyter-widgets/base",
      "_view_module_version": "1.2.0",
      "_view_name": "StyleView",
      "description_width": ""
     }
    },
    "afc5edf47abd4bce8c6cced7d5aadc9a": {
     "model_module": "@jupyter-widgets/base",
     "model_module_version": "1.2.0",
     "model_name": "LayoutModel",
     "state": {
      "_model_module": "@jupyter-widgets/base",
      "_model_module_version": "1.2.0",
      "_model_name": "LayoutModel",
      "_view_count": null,
      "_view_module": "@jupyter-widgets/base",
      "_view_module_version": "1.2.0",
      "_view_name": "LayoutView",
      "align_content": null,
      "align_items": null,
      "align_self": null,
      "border": null,
      "bottom": null,
      "display": null,
      "flex": null,
      "flex_flow": null,
      "grid_area": null,
      "grid_auto_columns": null,
      "grid_auto_flow": null,
      "grid_auto_rows": null,
      "grid_column": null,
      "grid_gap": null,
      "grid_row": null,
      "grid_template_areas": null,
      "grid_template_columns": null,
      "grid_template_rows": null,
      "height": null,
      "justify_content": null,
      "justify_items": null,
      "left": null,
      "margin": null,
      "max_height": null,
      "max_width": null,
      "min_height": null,
      "min_width": null,
      "object_fit": null,
      "object_position": null,
      "order": null,
      "overflow": null,
      "overflow_x": null,
      "overflow_y": null,
      "padding": null,
      "right": null,
      "top": null,
      "visibility": null,
      "width": null
     }
    },
    "b009c8ea86924612a47b7f58c95eb703": {
     "model_module": "@jupyter-widgets/base",
     "model_module_version": "1.2.0",
     "model_name": "LayoutModel",
     "state": {
      "_model_module": "@jupyter-widgets/base",
      "_model_module_version": "1.2.0",
      "_model_name": "LayoutModel",
      "_view_count": null,
      "_view_module": "@jupyter-widgets/base",
      "_view_module_version": "1.2.0",
      "_view_name": "LayoutView",
      "align_content": null,
      "align_items": null,
      "align_self": null,
      "border": null,
      "bottom": null,
      "display": null,
      "flex": null,
      "flex_flow": null,
      "grid_area": null,
      "grid_auto_columns": null,
      "grid_auto_flow": null,
      "grid_auto_rows": null,
      "grid_column": null,
      "grid_gap": null,
      "grid_row": null,
      "grid_template_areas": null,
      "grid_template_columns": null,
      "grid_template_rows": null,
      "height": null,
      "justify_content": null,
      "justify_items": null,
      "left": null,
      "margin": null,
      "max_height": null,
      "max_width": null,
      "min_height": null,
      "min_width": null,
      "object_fit": null,
      "object_position": null,
      "order": null,
      "overflow": null,
      "overflow_x": null,
      "overflow_y": null,
      "padding": null,
      "right": null,
      "top": null,
      "visibility": null,
      "width": null
     }
    },
    "b583dd7a44f046518b59ed9ca207fd8f": {
     "model_module": "@jupyter-widgets/controls",
     "model_module_version": "1.5.0",
     "model_name": "DescriptionStyleModel",
     "state": {
      "_model_module": "@jupyter-widgets/controls",
      "_model_module_version": "1.5.0",
      "_model_name": "DescriptionStyleModel",
      "_view_count": null,
      "_view_module": "@jupyter-widgets/base",
      "_view_module_version": "1.2.0",
      "_view_name": "StyleView",
      "description_width": ""
     }
    },
    "ba91a3b948ee4d329cf93ec8c8dfccb1": {
     "model_module": "@jupyter-widgets/base",
     "model_module_version": "1.2.0",
     "model_name": "LayoutModel",
     "state": {
      "_model_module": "@jupyter-widgets/base",
      "_model_module_version": "1.2.0",
      "_model_name": "LayoutModel",
      "_view_count": null,
      "_view_module": "@jupyter-widgets/base",
      "_view_module_version": "1.2.0",
      "_view_name": "LayoutView",
      "align_content": null,
      "align_items": null,
      "align_self": null,
      "border": null,
      "bottom": null,
      "display": null,
      "flex": null,
      "flex_flow": null,
      "grid_area": null,
      "grid_auto_columns": null,
      "grid_auto_flow": null,
      "grid_auto_rows": null,
      "grid_column": null,
      "grid_gap": null,
      "grid_row": null,
      "grid_template_areas": null,
      "grid_template_columns": null,
      "grid_template_rows": null,
      "height": null,
      "justify_content": null,
      "justify_items": null,
      "left": null,
      "margin": null,
      "max_height": null,
      "max_width": null,
      "min_height": null,
      "min_width": null,
      "object_fit": null,
      "object_position": null,
      "order": null,
      "overflow": null,
      "overflow_x": null,
      "overflow_y": null,
      "padding": null,
      "right": null,
      "top": null,
      "visibility": null,
      "width": null
     }
    },
    "be1be11948304d0e813728c27751d9c5": {
     "model_module": "@jupyter-widgets/base",
     "model_module_version": "1.2.0",
     "model_name": "LayoutModel",
     "state": {
      "_model_module": "@jupyter-widgets/base",
      "_model_module_version": "1.2.0",
      "_model_name": "LayoutModel",
      "_view_count": null,
      "_view_module": "@jupyter-widgets/base",
      "_view_module_version": "1.2.0",
      "_view_name": "LayoutView",
      "align_content": null,
      "align_items": null,
      "align_self": null,
      "border": null,
      "bottom": null,
      "display": null,
      "flex": null,
      "flex_flow": null,
      "grid_area": null,
      "grid_auto_columns": null,
      "grid_auto_flow": null,
      "grid_auto_rows": null,
      "grid_column": null,
      "grid_gap": null,
      "grid_row": null,
      "grid_template_areas": null,
      "grid_template_columns": null,
      "grid_template_rows": null,
      "height": null,
      "justify_content": null,
      "justify_items": null,
      "left": null,
      "margin": null,
      "max_height": null,
      "max_width": null,
      "min_height": null,
      "min_width": null,
      "object_fit": null,
      "object_position": null,
      "order": null,
      "overflow": null,
      "overflow_x": null,
      "overflow_y": null,
      "padding": null,
      "right": null,
      "top": null,
      "visibility": null,
      "width": null
     }
    },
    "c29a36e7cc78444ca41e72085cdcd04f": {
     "model_module": "@jupyter-widgets/controls",
     "model_module_version": "1.5.0",
     "model_name": "DescriptionStyleModel",
     "state": {
      "_model_module": "@jupyter-widgets/controls",
      "_model_module_version": "1.5.0",
      "_model_name": "DescriptionStyleModel",
      "_view_count": null,
      "_view_module": "@jupyter-widgets/base",
      "_view_module_version": "1.2.0",
      "_view_name": "StyleView",
      "description_width": ""
     }
    },
    "d8ab84ca58474ef99826675364fd3e69": {
     "model_module": "@jupyter-widgets/controls",
     "model_module_version": "1.5.0",
     "model_name": "ProgressStyleModel",
     "state": {
      "_model_module": "@jupyter-widgets/controls",
      "_model_module_version": "1.5.0",
      "_model_name": "ProgressStyleModel",
      "_view_count": null,
      "_view_module": "@jupyter-widgets/base",
      "_view_module_version": "1.2.0",
      "_view_name": "StyleView",
      "bar_color": null,
      "description_width": ""
     }
    },
    "e8e9abf24b00487f8c70d6a246105346": {
     "model_module": "@jupyter-widgets/base",
     "model_module_version": "1.2.0",
     "model_name": "LayoutModel",
     "state": {
      "_model_module": "@jupyter-widgets/base",
      "_model_module_version": "1.2.0",
      "_model_name": "LayoutModel",
      "_view_count": null,
      "_view_module": "@jupyter-widgets/base",
      "_view_module_version": "1.2.0",
      "_view_name": "LayoutView",
      "align_content": null,
      "align_items": null,
      "align_self": null,
      "border": null,
      "bottom": null,
      "display": null,
      "flex": null,
      "flex_flow": null,
      "grid_area": null,
      "grid_auto_columns": null,
      "grid_auto_flow": null,
      "grid_auto_rows": null,
      "grid_column": null,
      "grid_gap": null,
      "grid_row": null,
      "grid_template_areas": null,
      "grid_template_columns": null,
      "grid_template_rows": null,
      "height": null,
      "justify_content": null,
      "justify_items": null,
      "left": null,
      "margin": null,
      "max_height": null,
      "max_width": null,
      "min_height": null,
      "min_width": null,
      "object_fit": null,
      "object_position": null,
      "order": null,
      "overflow": null,
      "overflow_x": null,
      "overflow_y": null,
      "padding": null,
      "right": null,
      "top": null,
      "visibility": null,
      "width": null
     }
    },
    "f5c89a13dcbe441b887a2106ba8fb5d5": {
     "model_module": "@jupyter-widgets/controls",
     "model_module_version": "1.5.0",
     "model_name": "HTMLModel",
     "state": {
      "_dom_classes": [],
      "_model_module": "@jupyter-widgets/controls",
      "_model_module_version": "1.5.0",
      "_model_name": "HTMLModel",
      "_view_count": null,
      "_view_module": "@jupyter-widgets/controls",
      "_view_module_version": "1.5.0",
      "_view_name": "HTMLView",
      "description": "",
      "description_tooltip": null,
      "layout": "IPY_MODEL_afc5edf47abd4bce8c6cced7d5aadc9a",
      "placeholder": "​",
      "style": "IPY_MODEL_f9a86152e6bf491cba018fb8529d5b0b",
      "value": "Map: 100%"
     }
    },
    "f9a86152e6bf491cba018fb8529d5b0b": {
     "model_module": "@jupyter-widgets/controls",
     "model_module_version": "1.5.0",
     "model_name": "DescriptionStyleModel",
     "state": {
      "_model_module": "@jupyter-widgets/controls",
      "_model_module_version": "1.5.0",
      "_model_name": "DescriptionStyleModel",
      "_view_count": null,
      "_view_module": "@jupyter-widgets/base",
      "_view_module_version": "1.2.0",
      "_view_name": "StyleView",
      "description_width": ""
     }
    },
    "fb7f8c2fe0e644b5992d757255f740cd": {
     "model_module": "@jupyter-widgets/base",
     "model_module_version": "1.2.0",
     "model_name": "LayoutModel",
     "state": {
      "_model_module": "@jupyter-widgets/base",
      "_model_module_version": "1.2.0",
      "_model_name": "LayoutModel",
      "_view_count": null,
      "_view_module": "@jupyter-widgets/base",
      "_view_module_version": "1.2.0",
      "_view_name": "LayoutView",
      "align_content": null,
      "align_items": null,
      "align_self": null,
      "border": null,
      "bottom": null,
      "display": null,
      "flex": null,
      "flex_flow": null,
      "grid_area": null,
      "grid_auto_columns": null,
      "grid_auto_flow": null,
      "grid_auto_rows": null,
      "grid_column": null,
      "grid_gap": null,
      "grid_row": null,
      "grid_template_areas": null,
      "grid_template_columns": null,
      "grid_template_rows": null,
      "height": null,
      "justify_content": null,
      "justify_items": null,
      "left": null,
      "margin": null,
      "max_height": null,
      "max_width": null,
      "min_height": null,
      "min_width": null,
      "object_fit": null,
      "object_position": null,
      "order": null,
      "overflow": null,
      "overflow_x": null,
      "overflow_y": null,
      "padding": null,
      "right": null,
      "top": null,
      "visibility": null,
      "width": null
     }
    }
   }
  }
 },
 "nbformat": 4,
 "nbformat_minor": 0
}
